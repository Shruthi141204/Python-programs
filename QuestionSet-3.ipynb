{
 "cells": [
  {
   "cell_type": "markdown",
   "id": "70966948",
   "metadata": {},
   "source": [
    "### input string should hv 30 characters. if less input less prompt, if exceeding 30 , give 30 and consider first 30 characters and get the vowels"
   ]
  },
  {
   "cell_type": "code",
   "execution_count": 7,
   "id": "38e621d1",
   "metadata": {},
   "outputs": [
    {
     "name": "stdout",
     "output_type": "stream",
     "text": [
      "Enter a string of 30 characters: zawsxedcrtfvyguhijokozwsxedcrfvtgbyhnujisxdcrfvtgbyh\n",
      "Character length should be a maximum of 30.\n",
      "Count of 'a': 1\n",
      "Count of 'e': 2\n",
      "Count of 'i': 1\n",
      "Count of 'o': 2\n",
      "Count of 'u': 1\n"
     ]
    }
   ],
   "source": [
    "inputstring = input(\"Enter a string of 30 characters: \")\n",
    "\n",
    "if len(inputstring) < 30:\n",
    "    print(\"Character length should be a minimum of 30.\")\n",
    "else:\n",
    "    if len(inputstring) > 30:\n",
    "        print(\"Character length should be a maximum of 30.\")\n",
    "    inputstring = inputstring[:30]\n",
    "    \n",
    "    vowelcounts = {'a': 0, 'e': 0, 'i': 0, 'o': 0, 'u': 0}\n",
    "    for char in inputstring:\n",
    "        charlower = char.lower()\n",
    "        if charlower in 'aeiou':\n",
    "            vowelcounts[char_lower] += 1\n",
    "    for vowel, count in vowelcounts.items():\n",
    "        print(f\"Count of '{vowel}': {count}\")"
   ]
  },
  {
   "cell_type": "markdown",
   "id": "572233eb",
   "metadata": {},
   "source": [
    "### create a dictionary and clear all the values in the dictionary without using the clear function"
   ]
  },
  {
   "cell_type": "code",
   "execution_count": 10,
   "id": "eb792aec",
   "metadata": {},
   "outputs": [
    {
     "name": "stdout",
     "output_type": "stream",
     "text": [
      "Original dictionary:  {1: 'Black', 2: 'Blue', 3: 'Violet', 4: 'Magenta', 5: 'Gold'}\n",
      "Cleared dictionary: {}\n"
     ]
    }
   ],
   "source": [
    "my_dict = {1:'Black',  2:'Blue' , 3:'Violet', 4:'Magenta', 5: 'Gold'}\n",
    "print(\"Original dictionary: \" , my_dict)\n",
    "\n",
    "for key in list(my_dict.keys()):\n",
    "    del my_dict[key]\n",
    "\n",
    "print(\"Cleared dictionary:\", my_dict)"
   ]
  },
  {
   "cell_type": "code",
   "execution_count": 1,
   "id": "1de88613",
   "metadata": {},
   "outputs": [
    {
     "name": "stdout",
     "output_type": "stream",
     "text": [
      "    1 \n",
      "   1 1 \n",
      "  1 2 1 \n",
      " 1 3 3 1 \n",
      "1 4 6 4 1 \n"
     ]
    }
   ],
   "source": [
    "def factorial(n):\n",
    "    if n == 0:\n",
    "        return 1\n",
    "    else:\n",
    "        return n * factorial(n - 1)\n",
    "\n",
    "def pascal_tri(n):\n",
    "    for i in range(n):\n",
    "        for j in range(n - i - 1):\n",
    "            print(end=\" \")\n",
    "\n",
    "        for j in range(i + 1):\n",
    "            coef = factorial(i) // (factorial(j) * factorial(i - j))\n",
    "            print(coef, end=\" \")\n",
    "\n",
    "        print()\n",
    "\n",
    "n = 5\n",
    "pascal_tri(n)\n"
   ]
  },
  {
   "cell_type": "code",
   "execution_count": null,
   "id": "f5f5c639",
   "metadata": {},
   "outputs": [],
   "source": []
  }
 ],
 "metadata": {
  "kernelspec": {
   "display_name": "Python 3 (ipykernel)",
   "language": "python",
   "name": "python3"
  },
  "language_info": {
   "codemirror_mode": {
    "name": "ipython",
    "version": 3
   },
   "file_extension": ".py",
   "mimetype": "text/x-python",
   "name": "python",
   "nbconvert_exporter": "python",
   "pygments_lexer": "ipython3",
   "version": "3.11.4"
  }
 },
 "nbformat": 4,
 "nbformat_minor": 5
}
