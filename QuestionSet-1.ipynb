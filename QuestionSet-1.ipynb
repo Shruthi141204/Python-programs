{
 "cells": [
  {
   "cell_type": "markdown",
   "id": "5f3478fb",
   "metadata": {},
   "source": [
    "# RegEx Practice Questions (26-09-23)"
   ]
  },
  {
   "cell_type": "markdown",
   "id": "d25285fa",
   "metadata": {},
   "source": [
    "### 1. Check whether a given string contain 0xB0. Display the boolean result.\n",
    "### - line1: start address- 0xA0, func1 address- 0xC0\n",
    "### - line2: end address- 0xFF. func2 address- 0xB0"
   ]
  },
  {
   "cell_type": "code",
   "execution_count": 26,
   "id": "3df5fd13",
   "metadata": {},
   "outputs": [
    {
     "name": "stdout",
     "output_type": "stream",
     "text": [
      "True\n"
     ]
    }
   ],
   "source": [
    "import re\n",
    "input_string = \"\"\"line1: start address- 0xA0, func1 address- 0xC0\n",
    "line2: end address- 0xFF. func2 address- 0xB0\"\"\"\n",
    "pattern = re.compile(r'0xB0')\n",
    "result = bool(pattern.search(input_string))\n",
    "print(result)"
   ]
  },
  {
   "cell_type": "markdown",
   "id": "a8639d49",
   "metadata": {},
   "source": [
    "### 2. Replace all occurences of 5 with five for the given string:- \"They ate 5 oranges and 5 apples\""
   ]
  },
  {
   "cell_type": "code",
   "execution_count": 2,
   "id": "03aa0dab",
   "metadata": {},
   "outputs": [
    {
     "name": "stdout",
     "output_type": "stream",
     "text": [
      "They ate five oranges and five apples\n"
     ]
    }
   ],
   "source": [
    "import re\n",
    "input_string = \"They ate 5 oranges and 5 apples\"\n",
    "pattern = r'5'\n",
    "result_string = re.sub(pattern, 'five', input_string)\n",
    "print(result_string)"
   ]
  },
  {
   "cell_type": "markdown",
   "id": "ca846d52",
   "metadata": {},
   "source": [
    "### 3. Replace only the fist occurance of 5 with five for the given string:- \"They ate 5 oranges and 5 apples\""
   ]
  },
  {
   "cell_type": "code",
   "execution_count": 4,
   "id": "ad68e022",
   "metadata": {},
   "outputs": [
    {
     "name": "stdout",
     "output_type": "stream",
     "text": [
      "They ate five oranges and 5 apples\n"
     ]
    }
   ],
   "source": [
    "import re\n",
    "input_string = \"They ate 5 oranges and 5 apples\"\n",
    "pattern = r'5'\n",
    "result_string = re.sub(pattern, 'five', input_string, count=1)\n",
    "print(result_string)"
   ]
  },
  {
   "cell_type": "markdown",
   "id": "9fd16b42",
   "metadata": {},
   "source": [
    "### 4. For the given elements filter out all the elements that do not contain e.\n",
    "### - ['goal','new','user','sit','eat','dinner']"
   ]
  },
  {
   "cell_type": "code",
   "execution_count": 2,
   "id": "55cb2d32",
   "metadata": {},
   "outputs": [
    {
     "name": "stdout",
     "output_type": "stream",
     "text": [
      "Not Filtered Elements: ['new', 'user', 'eat', 'dinner']\n",
      "Filtered Elements: ['goal', 'sit']\n"
     ]
    }
   ],
   "source": [
    "import re\n",
    "\n",
    "elements = ['goal', 'new', 'user', 'sit', 'eat', 'dinner']\n",
    "pattern = r'.*e.*'\n",
    "filtered_elements = [element for element in elements if re.match(pattern, element)]\n",
    "print(\"Not Filtered Elements:\", filtered_elements)\n",
    "\n",
    "not_filtered_elements = [element for element in elements if not re.match(pattern, element)]\n",
    "print(\"Filtered Elements:\", not_filtered_elements)\n"
   ]
  },
  {
   "cell_type": "markdown",
   "id": "20a7578f",
   "metadata": {},
   "source": [
    "### 5. Replace all occurrences of note irrespective of case with X.–‘This note should not be NoTeD’–Output: 'This X should not be XD'"
   ]
  },
  {
   "cell_type": "code",
   "execution_count": 8,
   "id": "e75a0bab",
   "metadata": {},
   "outputs": [
    {
     "name": "stdout",
     "output_type": "stream",
     "text": [
      "This X should not be XD\n"
     ]
    }
   ],
   "source": [
    "import re\n",
    "text = \"This note should not be NoTeD\"\n",
    "modified_text = re.sub(r'note', 'X', text, flags=re.IGNORECASE)\n",
    "print(modified_text)"
   ]
  },
  {
   "cell_type": "markdown",
   "id": "c2df696a",
   "metadata": {},
   "source": [
    "### 6. Check if at is present in the given input data.–'tiger imp goat’"
   ]
  },
  {
   "cell_type": "code",
   "execution_count": 9,
   "id": "4c62288a",
   "metadata": {},
   "outputs": [
    {
     "name": "stdout",
     "output_type": "stream",
     "text": [
      "Found 'at' in the input data.\n"
     ]
    }
   ],
   "source": [
    "import re\n",
    "\n",
    "input_data = 'tiger imp goat'\n",
    "pattern = r'at'\n",
    "matches = re.search(pattern, input_data)\n",
    "if matches:\n",
    "    print(\"Found 'at' in the input data.\")\n",
    "else:\n",
    "    print(\"Did not find 'at' in the input data.\")\n"
   ]
  },
  {
   "cell_type": "markdown",
   "id": "08fa665c",
   "metadata": {},
   "source": [
    "### 7. For the given input string, display all lines not containing start irrespective of case.'''good startStart working on thatproject you always wantedstars are shining brightlyhi therestart and try tofinish the bookbye'''"
   ]
  },
  {
   "cell_type": "code",
   "execution_count": 10,
   "id": "19d7a313",
   "metadata": {},
   "outputs": [
    {
     "name": "stdout",
     "output_type": "stream",
     "text": [
      "stars are shining brightly\n",
      "hi there\n",
      "finish the book\n",
      "bye\n"
     ]
    }
   ],
   "source": [
    "import re\n",
    "input_string = '''good start\n",
    "Start working on thatproject you always wanted\n",
    "stars are shining brightly\n",
    "hi there\n",
    "start and try to\n",
    "finish the book\n",
    "bye'''\n",
    "\n",
    "lines = input_string.split('\\n')\n",
    "pattern = re.compile(r'.*start.*', re.IGNORECASE)\n",
    "for line in lines:\n",
    "    if not pattern.search(line):\n",
    "        print(line)"
   ]
  },
  {
   "cell_type": "markdown",
   "id": "d56be98e",
   "metadata": {},
   "source": [
    "### 8. For the given list, filter all elements that contain either a or w–['goal', 'new', 'user', 'sit', 'eat', 'dinner']"
   ]
  },
  {
   "cell_type": "code",
   "execution_count": 11,
   "id": "b204529c",
   "metadata": {},
   "outputs": [
    {
     "name": "stdout",
     "output_type": "stream",
     "text": [
      "['goal', 'new', 'eat']\n"
     ]
    }
   ],
   "source": [
    "import re\n",
    "my_list = ['goal', 'new', 'user', 'sit', 'eat', 'dinner']\n",
    "pattern = re.compile(r'[aw]')\n",
    "filtered_list = [element for element in my_list if pattern.search(element)]\n",
    "print(filtered_list)"
   ]
  },
  {
   "cell_type": "markdown",
   "id": "e3497b62",
   "metadata": {},
   "source": [
    "### 9. For the given string, replace 0xA0 with 0x7F and 0xC0 with 0x1F–'start address: 0xA0, func1 address: 0xC0’"
   ]
  },
  {
   "cell_type": "code",
   "execution_count": 12,
   "id": "9a6e8c2b",
   "metadata": {},
   "outputs": [
    {
     "name": "stdout",
     "output_type": "stream",
     "text": [
      "start address: 0x7F, func1 address: 0x1F\n"
     ]
    }
   ],
   "source": [
    "import re\n",
    "input_string = 'start address: 0xA0, func1 address: 0xC0'\n",
    "pattern = re.compile(r'0xA0|0xC0')\n",
    "output_string = pattern.sub(lambda match: '0x7F' if match.group() == '0xA0' else '0x1F', input_string)\n",
    "print(output_string)"
   ]
  },
  {
   "cell_type": "markdown",
   "id": "c6a71c1a",
   "metadata": {},
   "source": [
    "### 10.Check if the given strings start with be–line1 = 'be nice'–line2 = '\"best!\"'–line3 = 'better?'–line4 = 'oh no\\nbearspotted’"
   ]
  },
  {
   "cell_type": "code",
   "execution_count": 13,
   "id": "4242169e",
   "metadata": {},
   "outputs": [
    {
     "name": "stdout",
     "output_type": "stream",
     "text": [
      "line1 starts with 'be': True\n",
      "line2 starts with 'be': False\n",
      "line3 starts with 'be': True\n",
      "line4 starts with 'be': False\n"
     ]
    }
   ],
   "source": [
    "import re\n",
    "line1 = 'be nice'\n",
    "line2 = '\"best!\"'\n",
    "line3 = 'better?'\n",
    "line4 = 'oh no\\nbearspotted'\n",
    "pattern = re.compile(r'^be')\n",
    "\n",
    "result1 = bool(pattern.search(line1))\n",
    "result2 = bool(pattern.search(line2))\n",
    "result3 = bool(pattern.search(line3))\n",
    "result4 = bool(pattern.search(line4))\n",
    "\n",
    "print(\"line1 starts with 'be':\", result1)\n",
    "print(\"line2 starts with 'be':\", result2)\n",
    "print(\"line3 starts with 'be':\", result3)\n",
    "print(\"line4 starts with 'be':\", result4)"
   ]
  },
  {
   "cell_type": "markdown",
   "id": "10bbd585",
   "metadata": {},
   "source": [
    "### 11.For the given input string, change only the whole word red to brown–'bred red spread credible red.’"
   ]
  },
  {
   "cell_type": "code",
   "execution_count": 14,
   "id": "b2c7fbf7",
   "metadata": {},
   "outputs": [
    {
     "name": "stdout",
     "output_type": "stream",
     "text": [
      "bred brown spread credible brown.\n"
     ]
    }
   ],
   "source": [
    "import re\n",
    "input_string = 'bred red spread credible red.'\n",
    "pattern = re.compile(r'\\bred\\b')\n",
    "output_string = pattern.sub('brown', input_string)\n",
    "print(output_string)"
   ]
  },
  {
   "cell_type": "markdown",
   "id": "80ed2ac9",
   "metadata": {},
   "source": [
    "### 12.For the given input list, filter all elements that contain 42 surrounded by word characters–['hi42bye', 'nice1423', 'bad42', 'cool_42a', '42fake', '_42_’]–Output: ['hi42bye', 'nice1423', 'cool_42a', '_42_']"
   ]
  },
  {
   "cell_type": "code",
   "execution_count": 13,
   "id": "508ae65a",
   "metadata": {},
   "outputs": [
    {
     "name": "stdout",
     "output_type": "stream",
     "text": [
      "['hi42bye', 'nice1423', 'bad42', 'cool_42a', '42fake', '_42_']\n"
     ]
    }
   ],
   "source": [
    "import re\n",
    "\n",
    "input_list = ['hi42bye', 'nice1423', 'bad42', 'cool_42a', '42fake', '_42_']\n",
    "pattern = r'\\b\\w*42\\w*\\b'  \n",
    "filtered_elements = [element for element in input_list if re.search(pattern, element)]\n",
    "print(filtered_elements) "
   ]
  },
  {
   "cell_type": "markdown",
   "id": "81ffc495",
   "metadata": {},
   "source": [
    "### 13.For the given input list, filter all elements that start with \"den\" or end with \"ly“–['lovely', '1\\ndentist', '2 lonely', 'eden', 'fly\\nfar', 'dent’]–Output: ['lovely', '2 lonely', 'dent']"
   ]
  },
  {
   "cell_type": "code",
   "execution_count": 16,
   "id": "8344bd96",
   "metadata": {},
   "outputs": [
    {
     "name": "stdout",
     "output_type": "stream",
     "text": [
      "['lovely', '2 lonely', 'dent']\n"
     ]
    }
   ],
   "source": [
    "import re\n",
    "input_list = ['lovely', '1\\ndentist', '2 lonely', 'eden', 'fly\\nfar', 'dent']\n",
    "pattern = re.compile(r'(^den|ly$)')\n",
    "filtered_list = [element for element in input_list if pattern.search(element)]\n",
    "print(filtered_list)"
   ]
  },
  {
   "cell_type": "markdown",
   "id": "f182a2cc",
   "metadata": {},
   "source": [
    "### 14.For the given input string, change whole word mall to 1234 only if it is at the start of a line.'''\\(mall) call ball pallball fall wall tallmall call ball pallwall mall ball fallmallet wallet mallsmall:call:ball:pall’‘’"
   ]
  },
  {
   "cell_type": "code",
   "execution_count": 2,
   "id": "98ba520b",
   "metadata": {},
   "outputs": [
    {
     "name": "stdout",
     "output_type": "stream",
     "text": [
      "(mall) call ball pallball fall wall tallmall call ball pallwall mall ball fallmallet wallet mallsmall:call:ball:pall\n"
     ]
    }
   ],
   "source": [
    "import re\n",
    "input_string = '''(mall) call ball pallball fall wall tallmall call ball pallwall mall ball fallmallet wallet mallsmall:call:ball:pall'''\n",
    "pattern = re.compile(r'^(mall)\\b', re.MULTILINE)\n",
    "output_string = pattern.sub('1234', input_string)\n",
    "print(output_string)"
   ]
  },
  {
   "cell_type": "markdown",
   "id": "e781bcf6",
   "metadata": {},
   "source": [
    "### 15.For the given input list, filter all whole elements 12\\nthreeirrespective of case.–items = ['12\\nthree\\n', '12\\nThree', '12\\nthree\\n4', '12\\nthree’]–Output: ['12\\nThree', '12\\nthree']"
   ]
  },
  {
   "cell_type": "code",
   "execution_count": 18,
   "id": "b2af411b",
   "metadata": {},
   "outputs": [
    {
     "name": "stdout",
     "output_type": "stream",
     "text": [
      "['12\\nthree\\n', '12\\nThree', '12\\nthree\\n4', '12\\nthree']\n"
     ]
    }
   ],
   "source": [
    "import re\n",
    "items = ['12\\nthree\\n', '12\\nThree', '12\\nthree\\n4', '12\\nthree']\n",
    "target_string = '12\\nthree'\n",
    "pattern = re.compile(re.escape(target_string), re.IGNORECASE)\n",
    "filtered_items = [item for item in items if pattern.search(item)]\n",
    "print(filtered_items)"
   ]
  },
  {
   "cell_type": "markdown",
   "id": "44258087",
   "metadata": {},
   "source": [
    "### 16.For the given input list, replace hand with X for all elements that start with hand followed by at least one word character.–items = ['handed', 'hand', 'handy', 'un-handed', 'handle', 'hand-2’]–Output: ['Xed', 'hand', 'Xy', 'un-handed', 'Xle', 'hand-2']"
   ]
  },
  {
   "cell_type": "code",
   "execution_count": 18,
   "id": "ed56a498",
   "metadata": {},
   "outputs": [
    {
     "name": "stdout",
     "output_type": "stream",
     "text": [
      "['Xed', 'X', 'Xy', 'un-Xed', 'Xle', 'X-2']\n"
     ]
    }
   ],
   "source": [
    "import re\n",
    "items = ['handed', 'hand', 'handy', 'un-handed', 'handle', 'hand-2']\n",
    "pattern = r'hand'\n",
    "replaced = [re.sub(pattern,'X',items, flags=re.IGNORECASE) for items in items]\n",
    "print(replaced)"
   ]
  },
  {
   "cell_type": "markdown",
   "id": "79e7a80d",
   "metadata": {},
   "source": [
    "### 17.For the given input list, filter all elements starting with h. Additionally, replace e with X for these filtered elements.–items = ['handed', 'hand', 'handy', 'unhanded', 'handle', 'hand-2’]–Output: ['handXd', 'hand', 'handy', 'handlX', 'hand-2']"
   ]
  },
  {
   "cell_type": "code",
   "execution_count": 24,
   "id": "2d7339bd",
   "metadata": {},
   "outputs": [
    {
     "name": "stdout",
     "output_type": "stream",
     "text": [
      "['handXd', 'hand', 'handy', 'handlX', 'hand-2']\n"
     ]
    }
   ],
   "source": [
    "import re\n",
    "items = ['handed', 'hand', 'handy', 'un-handed', 'handle', 'hand-2']\n",
    "starting_h = re.compile(r'^h')\n",
    "\n",
    "filtered_items = [item for item in items if starting_h.match(item)]\n",
    "modified_items = [re.sub(r'e', 'X', item, flags=re.IGNORECASE) for item in filtered_items]\n",
    "print(modified_items)"
   ]
  },
  {
   "cell_type": "code",
   "execution_count": null,
   "id": "d747eb39",
   "metadata": {},
   "outputs": [],
   "source": [
    "import re\n",
    "\n",
    "def remove_leading_zeros(ip_address):\n",
    "    pattern = r'\\b0+(\\d+)\\b'\n",
    "    cleaned_ip_address = re.sub(pattern, r'\\1', ip_address)\n",
    "    return cleaned_ip_address\n",
    "\n",
    "user_input = input(\"Enter an IP address: \")\n",
    "cleaned_ip = remove_leading_zeros(user_input)\n",
    "print(\"Cleaned IP address:\", cleaned_ip)"
   ]
  },
  {
   "cell_type": "code",
   "execution_count": null,
   "id": "38d97449",
   "metadata": {},
   "outputs": [],
   "source": []
  }
 ],
 "metadata": {
  "kernelspec": {
   "display_name": "Python 3 (ipykernel)",
   "language": "python",
   "name": "python3"
  },
  "language_info": {
   "codemirror_mode": {
    "name": "ipython",
    "version": 3
   },
   "file_extension": ".py",
   "mimetype": "text/x-python",
   "name": "python",
   "nbconvert_exporter": "python",
   "pygments_lexer": "ipython3",
   "version": "3.11.4"
  }
 },
 "nbformat": 4,
 "nbformat_minor": 5
}
