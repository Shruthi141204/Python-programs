{
 "cells": [
  {
   "cell_type": "code",
   "execution_count": 2,
   "id": "c6cc5cd8",
   "metadata": {},
   "outputs": [
    {
     "name": "stdout",
     "output_type": "stream",
     "text": [
      "Your word, apple,comes before banana\n"
     ]
    }
   ],
   "source": [
    "word = \"apple\"\n",
    "if word == \"banana\":\n",
    "    print(\"Alright banana\")\n",
    "    \n",
    "elif word < 'banana':\n",
    "    print('Your word, ' + word+ ',comes before banana')\n",
    "elif word > 'banana':\n",
    "    print('Your word, ' + word+ ',comes after banana')\n",
    "else:\n",
    "    print('All right bananas') "
   ]
  },
  {
   "cell_type": "code",
   "execution_count": 3,
   "id": "676988be",
   "metadata": {},
   "outputs": [
    {
     "data": {
      "text/plain": [
       "'asple'"
      ]
     },
     "execution_count": 3,
     "metadata": {},
     "output_type": "execute_result"
    }
   ],
   "source": [
    "fruit = \"apple\"\n",
    "fruit.replace(\"p\", \"s\", 1)"
   ]
  },
  {
   "cell_type": "markdown",
   "id": "878c221a",
   "metadata": {},
   "source": [
    "## Count the occurence of the letter m in Malayalam"
   ]
  },
  {
   "cell_type": "code",
   "execution_count": 4,
   "id": "7131e02e",
   "metadata": {},
   "outputs": [
    {
     "name": "stdout",
     "output_type": "stream",
     "text": [
      "The letter 'm' appears 1 times in the word 'Malayalam'.\n"
     ]
    }
   ],
   "source": [
    "word = \"Malayalam\"\n",
    "occurance_of = \"m\"\n",
    "count = word.count(occurance_of)\n",
    "print(\"The letter '{}' appears {} times in the word '{}'.\".format(occurance_of, count, word))"
   ]
  },
  {
   "cell_type": "markdown",
   "id": "ae29b528",
   "metadata": {},
   "source": [
    "## If a given string is a palindrome"
   ]
  },
  {
   "cell_type": "code",
   "execution_count": 5,
   "id": "10041296",
   "metadata": {},
   "outputs": [
    {
     "name": "stdout",
     "output_type": "stream",
     "text": [
      "Enter a string: Shruthi\n",
      "The input string is not a palindrome.\n"
     ]
    }
   ],
   "source": [
    "String = input(\"Enter a string: \")\n",
    "if String == String[::-1]:\n",
    "    print(\"The input string is a palindrome.\")\n",
    "else:\n",
    "    print(\"The input string is not a palindrome.\")"
   ]
  },
  {
   "cell_type": "markdown",
   "id": "abf9f4b2",
   "metadata": {},
   "source": [
    "## Get the frequency of each vowel in a string"
   ]
  },
  {
   "cell_type": "code",
   "execution_count": 8,
   "id": "ca08670c",
   "metadata": {},
   "outputs": [
    {
     "name": "stdout",
     "output_type": "stream",
     "text": [
      "Enter a string: Shruthi\n",
      "The frequency of vowel 'a' is: 0\n",
      "The frequency of vowel 'e' is: 0\n",
      "The frequency of vowel 'i' is: 1\n",
      "The frequency of vowel 'o' is: 0\n",
      "The frequency of vowel 'u' is: 1\n"
     ]
    }
   ],
   "source": [
    "String = input(\"Enter a string: \")\n",
    "vowels = ['a', 'e', 'i','o','u']\n",
    "vowel_frequencies = {}\n",
    "for vowel in vowels:\n",
    "    frequency = String.lower().count(vowel)\n",
    "    vowel_frequencies[vowel] = frequency\n",
    "for vowel, frequency in vowel_frequencies.items():\n",
    "    print(\"The frequency of vowel '{}' is: {}\".format(vowel, frequency))"
   ]
  },
  {
   "cell_type": "markdown",
   "id": "312fc901",
   "metadata": {},
   "source": [
    "## Count the number of matching character in a pair of string"
   ]
  },
  {
   "cell_type": "code",
   "execution_count": 12,
   "id": "62e0a9f7",
   "metadata": {},
   "outputs": [
    {
     "name": "stdout",
     "output_type": "stream",
     "text": [
      "Enter the first string: Shruthi\n",
      "Enter the second string: Rengarajan\n",
      "Number of matching characters: 0\n"
     ]
    }
   ],
   "source": [
    "String1 = input(\"Enter the first string: \")\n",
    "String2 = input(\"Enter the second string: \")\n",
    "String1 = String1.lower()\n",
    "String2 = String2.lower()\n",
    "match_count = 0\n",
    "for char1, char2 in zip(String1, String2):\n",
    "    if char1 == char2:\n",
    "        match_count += 1\n",
    "\n",
    "print(\"Number of matching characters:\", match_count)"
   ]
  },
  {
   "cell_type": "markdown",
   "id": "19600d14",
   "metadata": {},
   "source": [
    "## Are strings mutable"
   ]
  },
  {
   "cell_type": "code",
   "execution_count": null,
   "id": "0e7c1f4b",
   "metadata": {},
   "outputs": [],
   "source": [
    "No they are immutable."
   ]
  }
 ],
 "metadata": {
  "kernelspec": {
   "display_name": "Python 3 (ipykernel)",
   "language": "python",
   "name": "python3"
  },
  "language_info": {
   "codemirror_mode": {
    "name": "ipython",
    "version": 3
   },
   "file_extension": ".py",
   "mimetype": "text/x-python",
   "name": "python",
   "nbconvert_exporter": "python",
   "pygments_lexer": "ipython3",
   "version": "3.11.4"
  }
 },
 "nbformat": 4,
 "nbformat_minor": 5
}
